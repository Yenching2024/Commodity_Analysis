{
 "cells": [
  {
   "cell_type": "code",
   "execution_count": 1,
   "id": "db496eb3",
   "metadata": {
    "_cell_guid": "b1076dfc-b9ad-4769-8c92-a6c4dae69d19",
    "_uuid": "8f2839f25d086af736a60e9eeb907d3b93b6e0e5",
    "execution": {
     "iopub.execute_input": "2022-08-30T19:14:49.616942Z",
     "iopub.status.busy": "2022-08-30T19:14:49.615992Z",
     "iopub.status.idle": "2022-08-30T19:14:49.639401Z",
     "shell.execute_reply": "2022-08-30T19:14:49.638359Z"
    },
    "papermill": {
     "duration": 0.038586,
     "end_time": "2022-08-30T19:14:49.643161",
     "exception": false,
     "start_time": "2022-08-30T19:14:49.604575",
     "status": "completed"
    },
    "tags": []
   },
   "outputs": [
    {
     "name": "stdout",
     "output_type": "stream",
     "text": [
      "/kaggle/input/monthly-gold-prices/1990-2021.csv\n",
      "/kaggle/input/monthly-gold-prices/1979-2021.csv\n",
      "/kaggle/input/daily-coffee-price/coffee.csv\n"
     ]
    }
   ],
   "source": [
    "# This Python 3 environment comes with many helpful analytics libraries installed\n",
    "# It is defined by the kaggle/python Docker image: https://github.com/kaggle/docker-python\n",
    "# For example, here's several helpful packages to load\n",
    "\n",
    "import numpy as np # linear algebra\n",
    "import pandas as pd # data processing, CSV file I/O (e.g. pd.read_csv)\n",
    "\n",
    "# Input data files are available in the read-only \"../input/\" directory\n",
    "# For example, running this (by clicking run or pressing Shift+Enter) will list all files under the input directory\n",
    "\n",
    "import os\n",
    "for dirname, _, filenames in os.walk('/kaggle/input'):\n",
    "    for filename in filenames:\n",
    "        print(os.path.join(dirname, filename))\n",
    "\n",
    "# You can write up to 20GB to the current directory (/kaggle/working/) that gets preserved as output when you create a version using \"Save & Run All\" \n",
    "# You can also write temporary files to /kaggle/temp/, but they won't be saved outside of the current session"
   ]
  },
  {
   "cell_type": "code",
   "execution_count": 2,
   "id": "43a2ed85",
   "metadata": {
    "execution": {
     "iopub.execute_input": "2022-08-30T19:14:49.657812Z",
     "iopub.status.busy": "2022-08-30T19:14:49.656834Z",
     "iopub.status.idle": "2022-08-30T19:14:50.849189Z",
     "shell.execute_reply": "2022-08-30T19:14:50.848286Z"
    },
    "papermill": {
     "duration": 1.201791,
     "end_time": "2022-08-30T19:14:50.851772",
     "exception": false,
     "start_time": "2022-08-30T19:14:49.649981",
     "status": "completed"
    },
    "tags": []
   },
   "outputs": [],
   "source": [
    "import matplotlib.pyplot as plt\n",
    "from matplotlib import rcParams\n",
    "from sklearn.model_selection import train_test_split\n",
    "from sklearn.linear_model import LinearRegression\n",
    "rcParams['figure.figsize'] = 10,8"
   ]
  },
  {
   "cell_type": "markdown",
   "id": "6a2a46b8",
   "metadata": {
    "papermill": {
     "duration": 0.005133,
     "end_time": "2022-08-30T19:14:50.862645",
     "exception": false,
     "start_time": "2022-08-30T19:14:50.857512",
     "status": "completed"
    },
    "tags": []
   },
   "source": []
  },
  {
   "cell_type": "code",
   "execution_count": 3,
   "id": "9b984b73",
   "metadata": {
    "execution": {
     "iopub.execute_input": "2022-08-30T19:14:50.875822Z",
     "iopub.status.busy": "2022-08-30T19:14:50.875268Z",
     "iopub.status.idle": "2022-08-30T19:14:50.920612Z",
     "shell.execute_reply": "2022-08-30T19:14:50.919880Z"
    },
    "papermill": {
     "duration": 0.054285,
     "end_time": "2022-08-30T19:14:50.922598",
     "exception": false,
     "start_time": "2022-08-30T19:14:50.868313",
     "status": "completed"
    },
    "tags": []
   },
   "outputs": [
    {
     "data": {
      "text/html": [
       "<div>\n",
       "<style scoped>\n",
       "    .dataframe tbody tr th:only-of-type {\n",
       "        vertical-align: middle;\n",
       "    }\n",
       "\n",
       "    .dataframe tbody tr th {\n",
       "        vertical-align: top;\n",
       "    }\n",
       "\n",
       "    .dataframe thead th {\n",
       "        text-align: right;\n",
       "    }\n",
       "</style>\n",
       "<table border=\"1\" class=\"dataframe\">\n",
       "  <thead>\n",
       "    <tr style=\"text-align: right;\">\n",
       "      <th></th>\n",
       "      <th>Date</th>\n",
       "      <th>United States(USD)</th>\n",
       "      <th>Europe(EUR)</th>\n",
       "      <th>Japan(JPY)</th>\n",
       "      <th>United Kingdom(GBP)</th>\n",
       "      <th>Canada(CAD)</th>\n",
       "      <th>Switzerland(CHF)</th>\n",
       "      <th>India(INR)</th>\n",
       "      <th>China(CNY)</th>\n",
       "      <th>Turkey(TRY)</th>\n",
       "      <th>Saudi Arabia(SAR)</th>\n",
       "      <th>Indonesia(IDR)</th>\n",
       "      <th>United Arab Emirates(AED)</th>\n",
       "      <th>Thailand(THB)</th>\n",
       "      <th>Vietnam(VND)</th>\n",
       "      <th>Egypt(EGP)</th>\n",
       "      <th>South Korean(KRW)</th>\n",
       "      <th>Australia(AUD)</th>\n",
       "      <th>South Africa(ZAR)</th>\n",
       "    </tr>\n",
       "  </thead>\n",
       "  <tbody>\n",
       "    <tr>\n",
       "      <th>0</th>\n",
       "      <td>31-01-1990</td>\n",
       "      <td>415.1</td>\n",
       "      <td>321.3</td>\n",
       "      <td>59972.3</td>\n",
       "      <td>247.1</td>\n",
       "      <td>492.0</td>\n",
       "      <td>623.8</td>\n",
       "      <td>7041.0</td>\n",
       "      <td>1930.2</td>\n",
       "      <td>1.0</td>\n",
       "      <td>1557.4</td>\n",
       "      <td>745400.5</td>\n",
       "      <td>1524.9</td>\n",
       "      <td>10623.3</td>\n",
       "      <td>1867170.0</td>\n",
       "      <td>1059.9</td>\n",
       "      <td>283240.8</td>\n",
       "      <td>540.0</td>\n",
       "      <td>1063.2</td>\n",
       "    </tr>\n",
       "    <tr>\n",
       "      <th>1</th>\n",
       "      <td>28-02-1990</td>\n",
       "      <td>407.7</td>\n",
       "      <td>316.2</td>\n",
       "      <td>60672.5</td>\n",
       "      <td>241.2</td>\n",
       "      <td>485.7</td>\n",
       "      <td>607.9</td>\n",
       "      <td>6957.4</td>\n",
       "      <td>1936.8</td>\n",
       "      <td>1.0</td>\n",
       "      <td>1527.7</td>\n",
       "      <td>747408.3</td>\n",
       "      <td>1496.0</td>\n",
       "      <td>10494.1</td>\n",
       "      <td>1853648.1</td>\n",
       "      <td>1085.6</td>\n",
       "      <td>282356.4</td>\n",
       "      <td>534.1</td>\n",
       "      <td>1040.4</td>\n",
       "    </tr>\n",
       "    <tr>\n",
       "      <th>2</th>\n",
       "      <td>30-03-1990</td>\n",
       "      <td>368.5</td>\n",
       "      <td>283.9</td>\n",
       "      <td>57987.1</td>\n",
       "      <td>223.7</td>\n",
       "      <td>431.0</td>\n",
       "      <td>550.8</td>\n",
       "      <td>6334.4</td>\n",
       "      <td>1717.1</td>\n",
       "      <td>0.9</td>\n",
       "      <td>1376.8</td>\n",
       "      <td>652783.7</td>\n",
       "      <td>1348.1</td>\n",
       "      <td>9506.1</td>\n",
       "      <td>1622520.2</td>\n",
       "      <td>947.3</td>\n",
       "      <td>257424.6</td>\n",
       "      <td>488.4</td>\n",
       "      <td>976.9</td>\n",
       "    </tr>\n",
       "    <tr>\n",
       "      <th>3</th>\n",
       "      <td>30-04-1990</td>\n",
       "      <td>367.8</td>\n",
       "      <td>280.7</td>\n",
       "      <td>58375.7</td>\n",
       "      <td>224.3</td>\n",
       "      <td>428.3</td>\n",
       "      <td>533.9</td>\n",
       "      <td>6379.3</td>\n",
       "      <td>1739.6</td>\n",
       "      <td>0.9</td>\n",
       "      <td>1370.0</td>\n",
       "      <td>669724.5</td>\n",
       "      <td>1341.5</td>\n",
       "      <td>9510.6</td>\n",
       "      <td>1651644.8</td>\n",
       "      <td>982.5</td>\n",
       "      <td>258294.2</td>\n",
       "      <td>488.9</td>\n",
       "      <td>975.8</td>\n",
       "    </tr>\n",
       "    <tr>\n",
       "      <th>4</th>\n",
       "      <td>31-05-1990</td>\n",
       "      <td>363.1</td>\n",
       "      <td>280.2</td>\n",
       "      <td>55420.9</td>\n",
       "      <td>216.5</td>\n",
       "      <td>426.2</td>\n",
       "      <td>520.1</td>\n",
       "      <td>6295.5</td>\n",
       "      <td>1717.4</td>\n",
       "      <td>0.9</td>\n",
       "      <td>1371.7</td>\n",
       "      <td>671905.9</td>\n",
       "      <td>1343.2</td>\n",
       "      <td>9352.3</td>\n",
       "      <td>1646877.6</td>\n",
       "      <td>988.3</td>\n",
       "      <td>261068.1</td>\n",
       "      <td>472.2</td>\n",
       "      <td>967.3</td>\n",
       "    </tr>\n",
       "  </tbody>\n",
       "</table>\n",
       "</div>"
      ],
      "text/plain": [
       "         Date  United States(USD)  Europe(EUR)  Japan(JPY)  \\\n",
       "0  31-01-1990               415.1        321.3     59972.3   \n",
       "1  28-02-1990               407.7        316.2     60672.5   \n",
       "2  30-03-1990               368.5        283.9     57987.1   \n",
       "3  30-04-1990               367.8        280.7     58375.7   \n",
       "4  31-05-1990               363.1        280.2     55420.9   \n",
       "\n",
       "   United Kingdom(GBP)  Canada(CAD)  Switzerland(CHF)  India(INR)  China(CNY)  \\\n",
       "0                247.1        492.0             623.8      7041.0      1930.2   \n",
       "1                241.2        485.7             607.9      6957.4      1936.8   \n",
       "2                223.7        431.0             550.8      6334.4      1717.1   \n",
       "3                224.3        428.3             533.9      6379.3      1739.6   \n",
       "4                216.5        426.2             520.1      6295.5      1717.4   \n",
       "\n",
       "   Turkey(TRY)  Saudi Arabia(SAR)  Indonesia(IDR)  United Arab Emirates(AED)  \\\n",
       "0          1.0             1557.4        745400.5                     1524.9   \n",
       "1          1.0             1527.7        747408.3                     1496.0   \n",
       "2          0.9             1376.8        652783.7                     1348.1   \n",
       "3          0.9             1370.0        669724.5                     1341.5   \n",
       "4          0.9             1371.7        671905.9                     1343.2   \n",
       "\n",
       "   Thailand(THB)  Vietnam(VND)  Egypt(EGP)  South Korean(KRW)  Australia(AUD)  \\\n",
       "0        10623.3     1867170.0      1059.9           283240.8           540.0   \n",
       "1        10494.1     1853648.1      1085.6           282356.4           534.1   \n",
       "2         9506.1     1622520.2       947.3           257424.6           488.4   \n",
       "3         9510.6     1651644.8       982.5           258294.2           488.9   \n",
       "4         9352.3     1646877.6       988.3           261068.1           472.2   \n",
       "\n",
       "   South Africa(ZAR)  \n",
       "0             1063.2  \n",
       "1             1040.4  \n",
       "2              976.9  \n",
       "3              975.8  \n",
       "4              967.3  "
      ]
     },
     "execution_count": 3,
     "metadata": {},
     "output_type": "execute_result"
    }
   ],
   "source": [
    "df = pd.read_csv('/kaggle/input/monthly-gold-prices/1990-2021.csv')\n",
    "df.head()"
   ]
  },
  {
   "cell_type": "code",
   "execution_count": 4,
   "id": "0ffdac6f",
   "metadata": {
    "execution": {
     "iopub.execute_input": "2022-08-30T19:14:50.936303Z",
     "iopub.status.busy": "2022-08-30T19:14:50.935769Z",
     "iopub.status.idle": "2022-08-30T19:14:50.941586Z",
     "shell.execute_reply": "2022-08-30T19:14:50.940642Z"
    },
    "papermill": {
     "duration": 0.015133,
     "end_time": "2022-08-30T19:14:50.943613",
     "exception": false,
     "start_time": "2022-08-30T19:14:50.928480",
     "status": "completed"
    },
    "tags": []
   },
   "outputs": [
    {
     "data": {
      "text/plain": [
       "(379, 19)"
      ]
     },
     "execution_count": 4,
     "metadata": {},
     "output_type": "execute_result"
    }
   ],
   "source": [
    "df.shape"
   ]
  },
  {
   "cell_type": "code",
   "execution_count": 5,
   "id": "a2e902d8",
   "metadata": {
    "execution": {
     "iopub.execute_input": "2022-08-30T19:14:50.957948Z",
     "iopub.status.busy": "2022-08-30T19:14:50.957271Z",
     "iopub.status.idle": "2022-08-30T19:14:50.961620Z",
     "shell.execute_reply": "2022-08-30T19:14:50.960738Z"
    },
    "papermill": {
     "duration": 0.013823,
     "end_time": "2022-08-30T19:14:50.963488",
     "exception": false,
     "start_time": "2022-08-30T19:14:50.949665",
     "status": "completed"
    },
    "tags": []
   },
   "outputs": [],
   "source": [
    "def generate_report(data):\n",
    "    print(data.info())\n",
    "    print(data.describe())"
   ]
  },
  {
   "cell_type": "code",
   "execution_count": 6,
   "id": "39173ab8",
   "metadata": {
    "execution": {
     "iopub.execute_input": "2022-08-30T19:14:50.977331Z",
     "iopub.status.busy": "2022-08-30T19:14:50.976685Z",
     "iopub.status.idle": "2022-08-30T19:14:51.050475Z",
     "shell.execute_reply": "2022-08-30T19:14:51.049675Z"
    },
    "papermill": {
     "duration": 0.083564,
     "end_time": "2022-08-30T19:14:51.053185",
     "exception": false,
     "start_time": "2022-08-30T19:14:50.969621",
     "status": "completed"
    },
    "tags": []
   },
   "outputs": [
    {
     "name": "stdout",
     "output_type": "stream",
     "text": [
      "<class 'pandas.core.frame.DataFrame'>\n",
      "RangeIndex: 379 entries, 0 to 378\n",
      "Data columns (total 19 columns):\n",
      " #   Column                     Non-Null Count  Dtype  \n",
      "---  ------                     --------------  -----  \n",
      " 0   Date                       379 non-null    object \n",
      " 1   United States(USD)         379 non-null    float64\n",
      " 2   Europe(EUR)                379 non-null    float64\n",
      " 3   Japan(JPY)                 379 non-null    float64\n",
      " 4   United Kingdom(GBP)        379 non-null    float64\n",
      " 5   Canada(CAD)                379 non-null    float64\n",
      " 6   Switzerland(CHF)           379 non-null    float64\n",
      " 7   India(INR)                 379 non-null    float64\n",
      " 8   China(CNY)                 379 non-null    float64\n",
      " 9   Turkey(TRY)                379 non-null    float64\n",
      " 10  Saudi Arabia(SAR)          379 non-null    float64\n",
      " 11  Indonesia(IDR)             379 non-null    float64\n",
      " 12  United Arab Emirates(AED)  379 non-null    float64\n",
      " 13  Thailand(THB)              379 non-null    float64\n",
      " 14  Vietnam(VND)               379 non-null    float64\n",
      " 15  Egypt(EGP)                 379 non-null    float64\n",
      " 16  South Korean(KRW)          379 non-null    float64\n",
      " 17  Australia(AUD)             379 non-null    float64\n",
      " 18  South Africa(ZAR)          379 non-null    float64\n",
      "dtypes: float64(18), object(1)\n",
      "memory usage: 56.4+ KB\n",
      "None\n",
      "       United States(USD)  Europe(EUR)     Japan(JPY)  United Kingdom(GBP)  \\\n",
      "count          379.000000   379.000000     379.000000           379.000000   \n",
      "mean           793.546702   648.602902   83466.892084           523.384960   \n",
      "std            511.651495   415.313653   49272.602236           375.305762   \n",
      "min            254.800000   224.500000   27937.500000           157.800000   \n",
      "25%            355.200000   298.550000   40504.050000           212.050000   \n",
      "50%            473.300000   393.000000   59972.300000           270.500000   \n",
      "75%           1257.950000  1049.350000  133431.100000           867.300000   \n",
      "max           1964.900000  1661.700000  207845.000000          1497.100000   \n",
      "\n",
      "       Canada(CAD)  Switzerland(CHF)     India(INR)    China(CNY)  \\\n",
      "count   379.000000        379.000000     379.000000    379.000000   \n",
      "mean    960.238259        851.871504   43089.168865   5436.584960   \n",
      "std     589.456131        411.036959   37004.651817   3216.943187   \n",
      "min     380.200000        381.600000    6140.500000   1652.200000   \n",
      "25%     470.750000        486.750000   12331.400000   2468.600000   \n",
      "50%     562.900000        623.800000   21233.200000   3829.500000   \n",
      "75%    1487.900000       1221.750000   78176.800000   8264.650000   \n",
      "max    2632.000000       1787.500000  146999.100000  13714.000000   \n",
      "\n",
      "        Turkey(TRY)  Saudi Arabia(SAR)  Indonesia(IDR)  \\\n",
      "count    379.000000         379.000000    3.790000e+02   \n",
      "mean    2130.007388        2976.129551    8.216117e+06   \n",
      "std     3259.754865        1919.139222    7.532845e+06   \n",
      "min        0.900000         955.600000    6.436786e+05   \n",
      "25%       59.100000        1331.700000    1.358623e+06   \n",
      "50%      649.500000        1775.700000    4.869742e+06   \n",
      "75%     2904.050000        4723.800000    1.521628e+07   \n",
      "max    16105.400000        7369.200000    2.868754e+07   \n",
      "\n",
      "       United Arab Emirates(AED)  Thailand(THB)  Vietnam(VND)    Egypt(EGP)  \\\n",
      "count                 379.000000     379.000000  3.790000e+02    379.000000   \n",
      "mean                 2914.618470   25869.122955  1.516149e+07   6958.586280   \n",
      "std                  1879.288853   16087.036285  1.276415e+07   8125.828099   \n",
      "min                   935.900000    8356.900000  1.571728e+06    870.100000   \n",
      "25%                  1303.200000   10469.600000  4.092638e+06   1207.500000   \n",
      "50%                  1737.800000   19434.000000  7.521126e+06   2822.400000   \n",
      "75%                  4620.100000   41258.700000  2.755735e+07   9197.300000   \n",
      "max                  7217.400000   61270.500000  4.553950e+07  31379.500000   \n",
      "\n",
      "       South Korean(KRW)  Australia(AUD)  South Africa(ZAR)  \n",
      "count       3.790000e+02      379.000000         379.000000  \n",
      "mean        8.642338e+05     1009.911609        7802.027177  \n",
      "std         6.070399e+05      603.651354        7720.715836  \n",
      "min         2.511635e+05      391.400000         930.000000  \n",
      "25%         3.131320e+05      501.750000        1623.450000  \n",
      "50%         4.959619e+05      630.100000        3392.600000  \n",
      "75%         1.405767e+06     1510.000000       13758.850000  \n",
      "max         2.340982e+06     2739.900000       33459.800000  \n"
     ]
    }
   ],
   "source": [
    "generate_report(df)"
   ]
  },
  {
   "cell_type": "code",
   "execution_count": 7,
   "id": "1ab971d5",
   "metadata": {
    "execution": {
     "iopub.execute_input": "2022-08-30T19:14:51.067872Z",
     "iopub.status.busy": "2022-08-30T19:14:51.067307Z",
     "iopub.status.idle": "2022-08-30T19:14:51.075525Z",
     "shell.execute_reply": "2022-08-30T19:14:51.074553Z"
    },
    "papermill": {
     "duration": 0.018109,
     "end_time": "2022-08-30T19:14:51.077777",
     "exception": false,
     "start_time": "2022-08-30T19:14:51.059668",
     "status": "completed"
    },
    "tags": []
   },
   "outputs": [
    {
     "data": {
      "text/plain": [
       "Date                         0\n",
       "Saudi Arabia(SAR)            0\n",
       "Australia(AUD)               0\n",
       "South Korean(KRW)            0\n",
       "Egypt(EGP)                   0\n",
       "Vietnam(VND)                 0\n",
       "Thailand(THB)                0\n",
       "United Arab Emirates(AED)    0\n",
       "Indonesia(IDR)               0\n",
       "Turkey(TRY)                  0\n",
       "United States(USD)           0\n",
       "China(CNY)                   0\n",
       "India(INR)                   0\n",
       "Switzerland(CHF)             0\n",
       "Canada(CAD)                  0\n",
       "United Kingdom(GBP)          0\n",
       "Japan(JPY)                   0\n",
       "Europe(EUR)                  0\n",
       "South Africa(ZAR)            0\n",
       "dtype: int64"
      ]
     },
     "execution_count": 7,
     "metadata": {},
     "output_type": "execute_result"
    }
   ],
   "source": [
    "df.isnull().sum().sort_values(ascending=False)"
   ]
  },
  {
   "cell_type": "code",
   "execution_count": 8,
   "id": "dc552f21",
   "metadata": {
    "execution": {
     "iopub.execute_input": "2022-08-30T19:14:51.092186Z",
     "iopub.status.busy": "2022-08-30T19:14:51.091542Z",
     "iopub.status.idle": "2022-08-30T19:14:51.350905Z",
     "shell.execute_reply": "2022-08-30T19:14:51.349292Z"
    },
    "papermill": {
     "duration": 0.269159,
     "end_time": "2022-08-30T19:14:51.353329",
     "exception": false,
     "start_time": "2022-08-30T19:14:51.084170",
     "status": "completed"
    },
    "tags": []
   },
   "outputs": [
    {
     "data": {
      "text/plain": [
       "<AxesSubplot:xlabel='Date'>"
      ]
     },
     "execution_count": 8,
     "metadata": {},
     "output_type": "execute_result"
    },
    {
     "data": {
      "image/png": "[encoded data removed]",
      "text/plain": [
       "<Figure size 720x576 with 1 Axes>"
      ]
     },
     "metadata": {
      "needs_background": "light"
     },
     "output_type": "display_data"
    }
   ],
   "source": [
    "ax = plt.gca()\n",
    "df.plot(x=\"Date\", y=\"Canada(CAD)\",cmap=\"viridis\", ax = ax)\n",
    "#df.plot(x=\"Date\", y=\"China(CNY)\",cmap=\"viridis\", ax = ax, alpha=0.5)\n",
    "#df.plot(x=\"Date\", y=\"Low\", color=\"#e6ccb2\", ax=ax)"
   ]
  },
  {
   "cell_type": "code",
   "execution_count": 9,
   "id": "412362fa",
   "metadata": {
    "execution": {
     "iopub.execute_input": "2022-08-30T19:14:51.369230Z",
     "iopub.status.busy": "2022-08-30T19:14:51.368828Z",
     "iopub.status.idle": "2022-08-30T19:14:51.589126Z",
     "shell.execute_reply": "2022-08-30T19:14:51.587955Z"
    },
    "papermill": {
     "duration": 0.230797,
     "end_time": "2022-08-30T19:14:51.591348",
     "exception": false,
     "start_time": "2022-08-30T19:14:51.360551",
     "status": "completed"
    },
    "tags": []
   },
   "outputs": [
    {
     "data": {
      "text/plain": [
       "<AxesSubplot:xlabel='Date'>"
      ]
     },
     "execution_count": 9,
     "metadata": {},
     "output_type": "execute_result"
    },
    {
     "data": {
      "image/png": "[encoded data removed]",
      "text/plain": [
       "<Figure size 720x576 with 1 Axes>"
      ]
     },
     "metadata": {
      "needs_background": "light"
     },
     "output_type": "display_data"
    }
   ],
   "source": [
    "ax = plt.gca()\n",
    "df.plot(x=\"Date\", y=\"China(CNY)\",cmap=\"viridis\", ax = ax)"
   ]
  },
  {
   "cell_type": "code",
   "execution_count": 10,
   "id": "830617fe",
   "metadata": {
    "execution": {
     "iopub.execute_input": "2022-08-30T19:14:51.608667Z",
     "iopub.status.busy": "2022-08-30T19:14:51.608254Z",
     "iopub.status.idle": "2022-08-30T19:14:51.817998Z",
     "shell.execute_reply": "2022-08-30T19:14:51.817164Z"
    },
    "papermill": {
     "duration": 0.221422,
     "end_time": "2022-08-30T19:14:51.820445",
     "exception": false,
     "start_time": "2022-08-30T19:14:51.599023",
     "status": "completed"
    },
    "tags": []
   },
   "outputs": [
    {
     "data": {
      "text/plain": [
       "<AxesSubplot:xlabel='China(CNY)', ylabel='Canada(CAD)'>"
      ]
     },
     "execution_count": 10,
     "metadata": {},
     "output_type": "execute_result"
    },
    {
     "data": {
      "image/png": "[encoded data removed]",
      "text/plain": [
       "<Figure size 720x576 with 1 Axes>"
      ]
     },
     "metadata": {
      "needs_background": "light"
     },
     "output_type": "display_data"
    }
   ],
   "source": [
    "df.plot(x=\"China(CNY)\", y=\"Canada(CAD)\", kind=\"scatter\", color=\"#b08968\", alpha=0.5)"
   ]
  },
  {
   "cell_type": "code",
   "execution_count": 11,
   "id": "7c8d4a63",
   "metadata": {
    "execution": {
     "iopub.execute_input": "2022-08-30T19:14:51.840302Z",
     "iopub.status.busy": "2022-08-30T19:14:51.839447Z",
     "iopub.status.idle": "2022-08-30T19:14:51.845730Z",
     "shell.execute_reply": "2022-08-30T19:14:51.844799Z"
    },
    "papermill": {
     "duration": 0.018017,
     "end_time": "2022-08-30T19:14:51.848260",
     "exception": false,
     "start_time": "2022-08-30T19:14:51.830243",
     "status": "completed"
    },
    "tags": []
   },
   "outputs": [],
   "source": [
    "X = df[['Canada(CAD)']]\n",
    "y = df[['China(CNY)']]"
   ]
  },
  {
   "cell_type": "code",
   "execution_count": 12,
   "id": "07bebcf2",
   "metadata": {
    "execution": {
     "iopub.execute_input": "2022-08-30T19:14:51.866933Z",
     "iopub.status.busy": "2022-08-30T19:14:51.866028Z",
     "iopub.status.idle": "2022-08-30T19:14:51.872010Z",
     "shell.execute_reply": "2022-08-30T19:14:51.871266Z"
    },
    "papermill": {
     "duration": 0.01759,
     "end_time": "2022-08-30T19:14:51.874308",
     "exception": false,
     "start_time": "2022-08-30T19:14:51.856718",
     "status": "completed"
    },
    "tags": []
   },
   "outputs": [],
   "source": [
    "X_train, X_test, y_train, y_test = train_test_split(\n",
    "    X, y, test_size=0.1, random_state=42)"
   ]
  },
  {
   "cell_type": "code",
   "execution_count": 13,
   "id": "370a6b74",
   "metadata": {
    "execution": {
     "iopub.execute_input": "2022-08-30T19:14:51.893608Z",
     "iopub.status.busy": "2022-08-30T19:14:51.892384Z",
     "iopub.status.idle": "2022-08-30T19:14:51.897601Z",
     "shell.execute_reply": "2022-08-30T19:14:51.896881Z"
    },
    "papermill": {
     "duration": 0.016452,
     "end_time": "2022-08-30T19:14:51.899525",
     "exception": false,
     "start_time": "2022-08-30T19:14:51.883073",
     "status": "completed"
    },
    "tags": []
   },
   "outputs": [
    {
     "name": "stdout",
     "output_type": "stream",
     "text": [
      "(341, 1)\n",
      "(341, 1)\n"
     ]
    }
   ],
   "source": [
    "print(X_train.shape)\n",
    "print(y_train.shape)"
   ]
  },
  {
   "cell_type": "code",
   "execution_count": 14,
   "id": "a57f54dc",
   "metadata": {
    "execution": {
     "iopub.execute_input": "2022-08-30T19:14:51.917626Z",
     "iopub.status.busy": "2022-08-30T19:14:51.917187Z",
     "iopub.status.idle": "2022-08-30T19:14:51.921898Z",
     "shell.execute_reply": "2022-08-30T19:14:51.921164Z"
    },
    "papermill": {
     "duration": 0.015882,
     "end_time": "2022-08-30T19:14:51.923737",
     "exception": false,
     "start_time": "2022-08-30T19:14:51.907855",
     "status": "completed"
    },
    "tags": []
   },
   "outputs": [],
   "source": [
    "def train_linReg(features, labels):\n",
    "    lin_reg = LinearRegression()\n",
    "    lin_reg.fit(features, labels)\n",
    "    return lin_reg\n",
    "    "
   ]
  },
  {
   "cell_type": "code",
   "execution_count": 15,
   "id": "f4a41591",
   "metadata": {
    "execution": {
     "iopub.execute_input": "2022-08-30T19:14:51.942043Z",
     "iopub.status.busy": "2022-08-30T19:14:51.941663Z",
     "iopub.status.idle": "2022-08-30T19:14:51.963448Z",
     "shell.execute_reply": "2022-08-30T19:14:51.962639Z"
    },
    "papermill": {
     "duration": 0.033766,
     "end_time": "2022-08-30T19:14:51.965895",
     "exception": false,
     "start_time": "2022-08-30T19:14:51.932129",
     "status": "completed"
    },
    "tags": []
   },
   "outputs": [],
   "source": [
    "lin_reg = train_linReg(X_train, y_train)"
   ]
  },
  {
   "cell_type": "code",
   "execution_count": 16,
   "id": "1adbbf43",
   "metadata": {
    "execution": {
     "iopub.execute_input": "2022-08-30T19:14:51.984546Z",
     "iopub.status.busy": "2022-08-30T19:14:51.983869Z",
     "iopub.status.idle": "2022-08-30T19:14:51.989015Z",
     "shell.execute_reply": "2022-08-30T19:14:51.988268Z"
    },
    "papermill": {
     "duration": 0.017413,
     "end_time": "2022-08-30T19:14:51.991778",
     "exception": false,
     "start_time": "2022-08-30T19:14:51.974365",
     "status": "completed"
    },
    "tags": []
   },
   "outputs": [
    {
     "name": "stdout",
     "output_type": "stream",
     "text": [
      "[333.14968263] [[5.35217103]]\n"
     ]
    }
   ],
   "source": [
    "print(lin_reg.intercept_, lin_reg.coef_)"
   ]
  },
  {
   "cell_type": "code",
   "execution_count": 17,
   "id": "cb81a403",
   "metadata": {
    "execution": {
     "iopub.execute_input": "2022-08-30T19:14:52.011461Z",
     "iopub.status.busy": "2022-08-30T19:14:52.011026Z",
     "iopub.status.idle": "2022-08-30T19:14:52.016933Z",
     "shell.execute_reply": "2022-08-30T19:14:52.016222Z"
    },
    "papermill": {
     "duration": 0.018005,
     "end_time": "2022-08-30T19:14:52.018796",
     "exception": false,
     "start_time": "2022-08-30T19:14:52.000791",
     "status": "completed"
    },
    "tags": []
   },
   "outputs": [],
   "source": [
    "y_pred = lin_reg.predict(X_test)"
   ]
  },
  {
   "cell_type": "code",
   "execution_count": 18,
   "id": "d3d06e8c",
   "metadata": {
    "execution": {
     "iopub.execute_input": "2022-08-30T19:14:52.038020Z",
     "iopub.status.busy": "2022-08-30T19:14:52.037350Z",
     "iopub.status.idle": "2022-08-30T19:14:52.046146Z",
     "shell.execute_reply": "2022-08-30T19:14:52.045273Z"
    },
    "papermill": {
     "duration": 0.020407,
     "end_time": "2022-08-30T19:14:52.048016",
     "exception": false,
     "start_time": "2022-08-30T19:14:52.027609",
     "status": "completed"
    },
    "tags": []
   },
   "outputs": [
    {
     "data": {
      "text/plain": [
       "0.9702021129297662"
      ]
     },
     "execution_count": 18,
     "metadata": {},
     "output_type": "execute_result"
    }
   ],
   "source": [
    "lin_reg.score(X_test, y_test)"
   ]
  },
  {
   "cell_type": "code",
   "execution_count": 19,
   "id": "26e25cc9",
   "metadata": {
    "execution": {
     "iopub.execute_input": "2022-08-30T19:14:52.066803Z",
     "iopub.status.busy": "2022-08-30T19:14:52.066153Z",
     "iopub.status.idle": "2022-08-30T19:14:52.247618Z",
     "shell.execute_reply": "2022-08-30T19:14:52.246924Z"
    },
    "papermill": {
     "duration": 0.193071,
     "end_time": "2022-08-30T19:14:52.249589",
     "exception": false,
     "start_time": "2022-08-30T19:14:52.056518",
     "status": "completed"
    },
    "tags": []
   },
   "outputs": [
    {
     "data": {
      "image/png": "[encoded data removed]",
      "text/plain": [
       "<Figure size 720x576 with 1 Axes>"
      ]
     },
     "metadata": {
      "needs_background": "light"
     },
     "output_type": "display_data"
    }
   ],
   "source": [
    "plt.plot(X_test, y_pred, \"r-\")\n",
    "plt.plot(X_test, y_test, \"b.\")\n",
    "\n",
    "plt.show()"
   ]
  },
  {
   "cell_type": "code",
   "execution_count": null,
   "id": "aee09176",
   "metadata": {
    "papermill": {
     "duration": 0.008435,
     "end_time": "2022-08-30T19:14:52.266812",
     "exception": false,
     "start_time": "2022-08-30T19:14:52.258377",
     "status": "completed"
    },
    "tags": []
   },
   "outputs": [],
   "source": []
  }
 ],
 "metadata": {
  "kernelspec": {
   "display_name": "Python 3",
   "language": "python",
   "name": "python3"
  },
  "language_info": {
   "codemirror_mode": {
    "name": "ipython",
    "version": 3
   },
   "file_extension": ".py",
   "mimetype": "text/x-python",
   "name": "python",
   "nbconvert_exporter": "python",
   "pygments_lexer": "ipython3",
   "version": "3.7.12"
  },
  "papermill": {
   "default_parameters": {},
   "duration": 13.002349,
   "end_time": "2022-08-30T19:14:52.996488",
   "environment_variables": {},
   "exception": null,
   "input_path": "__notebook__.ipynb",
   "output_path": "__notebook__.ipynb",
   "parameters": {},
   "start_time": "2022-08-30T19:14:39.994139",
   "version": "2.3.4"
  }
 },
 "nbformat": 4,
 "nbformat_minor": 5
}
